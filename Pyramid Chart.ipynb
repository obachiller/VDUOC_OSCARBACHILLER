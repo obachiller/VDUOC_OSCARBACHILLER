{
 "cells": [
  {
   "cell_type": "code",
   "execution_count": 1,
   "id": "03c763d4-2be2-4e9b-b536-a54c5ba7e3ce",
   "metadata": {},
   "outputs": [
    {
     "data": {
      "text/html": [
       "\n",
       "        <iframe\n",
       "            width=\"100%\"\n",
       "            height=\"600\"\n",
       "            src=\"http://localhost:50949/?id=be6ad27b\"\n",
       "            frameborder=\"0\"\n",
       "            allowfullscreen\n",
       "            \n",
       "        ></iframe>\n",
       "        "
      ],
      "text/plain": [
       "<IPython.lib.display.IFrame at 0x1dd6f0ba650>"
      ]
     },
     "execution_count": 1,
     "metadata": {},
     "output_type": "execute_result"
    }
   ],
   "source": [
    "import lightningchart as lc\n",
    "\n",
    "lc.set_license('P001-ZgAiXcls82XucLjGo1pNDBmgknE/FgAGIi2wGJsKgHy4pMYuLCxrxf4UXnNH-MEQCIE7WrKAMcHSuauBhMtQTwX3JPNSQPhQvdGJFy5GoAArCAiBsiHovJHY6pyh59fLdvj+QT5ld5MbewJXf7NsivQvsUw==')\n",
    "\n",
    "data = [\n",
    "    {'name': 'Bebidas', 'value': 170000000},\n",
    "    {'name': 'Cárnicos', 'value': 145000000},\n",
    "    {'name': 'Panadería', 'value': 250000000},\n",
    "    {'name': 'Lácteos', 'value': 100000000},\n",
    "]\n",
    "\n",
    "chart = lc.PyramidChart(\n",
    "    slice_mode='height',\n",
    "    theme=lc.Themes.TurquoiseHexagon,\n",
    "    title='Pyramid Chart'\n",
    ")\n",
    "chart.add_slices(data)\n",
    "chart.add_legend().add(chart).set_title('Valor en pesos colombianos de las ventas mensuales de estas categorías de producto')\n",
    "chart.set_label_side('left')\n",
    "chart.open_in_notebook()"
   ]
  },
  {
   "cell_type": "code",
   "execution_count": null,
   "id": "c7f0d21d-fce6-4f83-bed6-6d7fc7ef8d8d",
   "metadata": {},
   "outputs": [],
   "source": []
  }
 ],
 "metadata": {
  "kernelspec": {
   "display_name": "Python 3 (ipykernel)",
   "language": "python",
   "name": "python3"
  },
  "language_info": {
   "codemirror_mode": {
    "name": "ipython",
    "version": 3
   },
   "file_extension": ".py",
   "mimetype": "text/x-python",
   "name": "python",
   "nbconvert_exporter": "python",
   "pygments_lexer": "ipython3",
   "version": "3.11.8"
  }
 },
 "nbformat": 4,
 "nbformat_minor": 5
}
